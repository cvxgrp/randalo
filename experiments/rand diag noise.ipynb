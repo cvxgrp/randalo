{
 "cells": [
  {
   "cell_type": "code",
   "execution_count": 2,
   "metadata": {},
   "outputs": [],
   "source": [
    "import numpy as np\n",
    "import torch\n",
    "\n",
    "from matplotlib import pyplot as plt\n",
    "from matplotlib.colors import LogNorm, SymLogNorm\n",
    "\n",
    "from alogcv.diagonal import diagonal\n",
    "import linops as lo\n",
    "\n",
    "from tqdm import tqdm"
   ]
  },
  {
   "cell_type": "code",
   "execution_count": 19,
   "metadata": {},
   "outputs": [
    {
     "name": "stderr",
     "output_type": "stream",
     "text": [
      "m=1: 100%|██████████| 10/10 [00:00<00:00, 82.41it/s]\n",
      "m=10: 100%|██████████| 10/10 [00:01<00:00,  6.91it/s]\n",
      "m=100: 100%|██████████| 10/10 [00:02<00:00,  4.85it/s]\n"
     ]
    }
   ],
   "source": [
    "torch.manual_seed(0)\n",
    "n0 = 100\n",
    "p0 = 50\n",
    "scale = 50\n",
    "n_trials = 10\n",
    "\n",
    "def generate_data(n, p, k_sparse=None):\n",
    "\n",
    "    if k_sparse is None:\n",
    "        k_sparse = p\n",
    "\n",
    "    X = torch.randn(n, p) * torch.sqrt(torch.rand(n, 1) * 2)\n",
    "\n",
    "    beta = torch.zeros(p)\n",
    "    beta[:k_sparse] = torch.randn(k_sparse) / np.sqrt(k_sparse)\n",
    "\n",
    "    y = X @ beta + torch.randn(n)\n",
    "    return X, y, beta\n",
    "\n",
    "def get_ridge_H(X, lamda):\n",
    "    n, p = X.shape\n",
    "    H = X @ torch.linalg.solve(X.T @ X + n * lamda * torch.eye(p), X.T)\n",
    "    return lo.aslinearoperator(torch.eye(n) - H)\n",
    "    # return lo.aslinearoperator(H)\n",
    "\n",
    "def diag_rademacher(A, m):\n",
    "    n = A.shape[0]\n",
    "    V = (torch.randint(0, 2, (n, m)) * 2 - 1).float()\n",
    "    AV = A @ V\n",
    "    return (AV * V).mean(dim=1)\n",
    "\n",
    "def diag_ortho(A, m):\n",
    "    n = A.shape[0]\n",
    "    V = (torch.randint(0, 2, (n, m)) * 2 - 1).float()\n",
    "    Q, _ = torch.qr(V, some=True)\n",
    "    # Q = torch.randn(n, m)\n",
    "    Q /= torch.norm(Q, dim=1, keepdim=True)\n",
    "    AQ = A @ Q\n",
    "    return (AQ * Q).sum(dim=1)\n",
    "\n",
    "def diagpp(A, m):\n",
    "    n = A.shape[0]\n",
    "    m1 = m // 3\n",
    "    R = (torch.randint(0, 2, (n, m1)) * 2 - 1).float()\n",
    "    AR = A @ R\n",
    "    Q, _ = torch.qr(AR, some=True)\n",
    "    AQ = A @ Q\n",
    "    V = (torch.randint(0, 2, (n, m1)) * 2 - 1).float()\n",
    "    AV = A @ V\n",
    "    QTV = Q.T @ V\n",
    "    A_ImQQ_V = AV - AQ @ QTV\n",
    "    d = ((A_ImQQ_V - Q @ (Q.T @ A_ImQQ_V)) * V).mean(dim=1)\n",
    "    return torch.diag(Q @ (Q.T @ AQ) @ Q.T) + d\n",
    "\n",
    "n = n0 * scale\n",
    "p = p0 * scale\n",
    "X, y, beta = generate_data(n, p)\n",
    "lamda = 0.01\n",
    "H = get_ridge_H(X, lamda)\n",
    "y_hat = H @ y\n",
    "r = y - y_hat\n",
    "h = torch.diag(H @ torch.eye(n))\n",
    "\n",
    "# ms = torch.tensor([10, 20, 30, 40, 50, 60, 70, 80, 90]) * scale * 2\n",
    "# ms = torch.tensor([20, 40, 60, 80, 100, 120]) * scale\n",
    "ms = torch.tensor([1, 10, 100])\n",
    "\n",
    "h_hats = torch.zeros((len(ms), n_trials, n))\n",
    "h_hats_rad = torch.zeros((len(ms), n_trials, n))\n",
    "h_hats_ortho = torch.zeros((len(ms), n_trials, n))\n",
    "h_hats_pp = torch.zeros((len(ms), n_trials, n))\n",
    "\n",
    "for i, m in enumerate(ms):\n",
    "    for t in tqdm(range(n_trials), desc=f\"m={m}\"):\n",
    "        h_hats[i, t, :] = lo.diag.xdiag(H, m)\n",
    "        h_hats_rad[i, t, :] = diag_rademacher(H, m)\n",
    "        h_hats_ortho[i, t, :] = diag_ortho(H, m)\n",
    "        h_hats_pp[i, t, :] = diagpp(H, m)"
   ]
  },
  {
   "cell_type": "code",
   "execution_count": 25,
   "metadata": {},
   "outputs": [
    {
     "data": {
      "image/png": "[encoded data removed]",
      "text/plain": [
       "<Figure size 640x480 with 1 Axes>"
      ]
     },
     "metadata": {},
     "output_type": "display_data"
    },
    {
     "data": {
      "text/plain": [
       "(tensor(10), 5000)"
      ]
     },
     "execution_count": 25,
     "metadata": {},
     "output_type": "execute_result"
    }
   ],
   "source": [
    "h_bcast = h.reshape(1, 1, -1)\n",
    "\n",
    "i = 1\n",
    "# plt.hist((h_hats[i, :, :] / h_bcast).flatten(), bins=100, alpha=0.5, density=True, label=\"Xdiag\")\n",
    "plt.hist((h_hats_rad[i, :, :] / h_bcast).flatten(), bins=100, alpha=0.5, density=True, label=\"Rademacher\")\n",
    "plt.hist((h_hats_ortho[i, :, :] / h_bcast).flatten(), bins=100, alpha=0.5, density=True, label=\"Ortho\")\n",
    "# plt.hist((h_hats_pp[i, :, :] / h_bcast).flatten(), bins=100, alpha=0.5, density=True, label=\"Diag++\")\n",
    "plt.legend()\n",
    "plt.xlabel((r\"$\\widetilde{H}_{ii} / H_{ii}$\"))\n",
    "plt.show()\n",
    "\n",
    "ms[i], n"
   ]
  },
  {
   "cell_type": "code",
   "execution_count": null,
   "metadata": {},
   "outputs": [],
   "source": []
  }
 ],
 "metadata": {
  "kernelspec": {
   "display_name": "alo",
   "language": "python",
   "name": "python3"
  },
  "language_info": {
   "codemirror_mode": {
    "name": "ipython",
    "version": 3
   },
   "file_extension": ".py",
   "mimetype": "text/x-python",
   "name": "python",
   "nbconvert_exporter": "python",
   "pygments_lexer": "ipython3",
   "version": "3.11.4"
  },
  "orig_nbformat": 4
 },
 "nbformat": 4,
 "nbformat_minor": 2
}
