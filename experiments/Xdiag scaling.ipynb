{
 "cells": [
  {
   "cell_type": "code",
   "execution_count": 20,
   "metadata": {},
   "outputs": [],
   "source": [
    "import numpy as np\n",
    "import torch\n",
    "from alogcv.diagonal import diagonal\n",
    "\n",
    "import linops as lo\n",
    "# commit: 07a76f6"
   ]
  },
  {
   "cell_type": "code",
   "execution_count": 34,
   "metadata": {},
   "outputs": [
    {
     "ename": "RuntimeError",
     "evalue": "element 0 of tensors does not require grad and does not have a grad_fn",
     "output_type": "error",
     "traceback": [
      "\u001b[0;31m---------------------------------------------------------------------------\u001b[0m",
      "\u001b[0;31mRuntimeError\u001b[0m                              Traceback (most recent call last)",
      "Cell \u001b[0;32mIn[34], line 27\u001b[0m\n\u001b[1;32m     25\u001b[0m H \u001b[39m=\u001b[39m X \u001b[39m@\u001b[39m torch\u001b[39m.\u001b[39mlinalg\u001b[39m.\u001b[39msolve(X\u001b[39m.\u001b[39mT \u001b[39m@\u001b[39m X \u001b[39m+\u001b[39m n \u001b[39m*\u001b[39m lamda \u001b[39m*\u001b[39m torch\u001b[39m.\u001b[39meye(p), X\u001b[39m.\u001b[39mT)\n\u001b[1;32m     26\u001b[0m y_hat \u001b[39m=\u001b[39m H \u001b[39m@\u001b[39m y\n\u001b[0;32m---> 27\u001b[0m diagonal(y_hat, y, \u001b[39m'\u001b[39;49m\u001b[39mxdiag\u001b[39;49m\u001b[39m'\u001b[39;49m, {\u001b[39m'\u001b[39;49m\u001b[39mm\u001b[39;49m\u001b[39m'\u001b[39;49m: \u001b[39m10\u001b[39;49m})\n",
      "File \u001b[0;32m~/tatooine/stanford/src/risk-evaluation-project/alo/alogcv/diagonal.py:11\u001b[0m, in \u001b[0;36mdiagonal\u001b[0;34m(solution, input_vec, strategy, parameters)\u001b[0m\n\u001b[1;32m      9\u001b[0m     \u001b[39mreturn\u001b[39;00m lod\u001b[39m.\u001b[39mexact_diag(J, \u001b[39m*\u001b[39m\u001b[39m*\u001b[39mparameters)[\u001b[39m0\u001b[39m]\n\u001b[1;32m     10\u001b[0m \u001b[39melif\u001b[39;00m strategy \u001b[39m==\u001b[39m \u001b[39m'\u001b[39m\u001b[39mdefault\u001b[39m\u001b[39m'\u001b[39m \u001b[39mor\u001b[39;00m strategy \u001b[39m==\u001b[39m \u001b[39m'\u001b[39m\u001b[39mxdiag\u001b[39m\u001b[39m'\u001b[39m:\n\u001b[0;32m---> 11\u001b[0m     \u001b[39mreturn\u001b[39;00m lod\u001b[39m.\u001b[39;49mxdiag(J, \u001b[39m*\u001b[39;49m\u001b[39m*\u001b[39;49mparameters)[\u001b[39m0\u001b[39m]\n\u001b[1;32m     12\u001b[0m \u001b[39melse\u001b[39;00m:\n\u001b[1;32m     13\u001b[0m     \u001b[39mraise\u001b[39;00m \u001b[39mRuntimeError\u001b[39;00m(\u001b[39m\"\u001b[39m\u001b[39mUnknown divergence strategy.\u001b[39m\u001b[39m\"\u001b[39m)\n",
      "File \u001b[0;32m~/miniconda3x86_64/envs/alo/lib/python3.11/site-packages/linops/diag.py:18\u001b[0m, in \u001b[0;36mxdiag\u001b[0;34m(A, m)\u001b[0m\n\u001b[1;32m     15\u001b[0m Y \u001b[39m=\u001b[39m linops\u001b[39m.\u001b[39moperator_matrix_product(A, Omega)\n\u001b[1;32m     16\u001b[0m Q, R \u001b[39m=\u001b[39m torch\u001b[39m.\u001b[39mlinalg\u001b[39m.\u001b[39mqr(Y)\n\u001b[0;32m---> 18\u001b[0m Z \u001b[39m=\u001b[39m linops\u001b[39m.\u001b[39;49moperator_matrix_product(A\u001b[39m.\u001b[39;49mT, Q)\n\u001b[1;32m     19\u001b[0m T \u001b[39m=\u001b[39m Z\u001b[39m.\u001b[39mT \u001b[39m@\u001b[39m Omega\n\u001b[1;32m     20\u001b[0m S \u001b[39m=\u001b[39m normalize_columns(torch\u001b[39m.\u001b[39mlinalg\u001b[39m.\u001b[39minv(R)\u001b[39m.\u001b[39mT)\n",
      "File \u001b[0;32m~/miniconda3x86_64/envs/alo/lib/python3.11/site-packages/linops/linops.py:16\u001b[0m, in \u001b[0;36moperator_matrix_product\u001b[0;34m(A, M)\u001b[0m\n\u001b[1;32m     14\u001b[0m out \u001b[39m=\u001b[39m torch\u001b[39m.\u001b[39mempty((A\u001b[39m.\u001b[39mshape[\u001b[39m0\u001b[39m], M\u001b[39m.\u001b[39mshape[\u001b[39m1\u001b[39m]), device\u001b[39m=\u001b[39mM\u001b[39m.\u001b[39mdevice, dtype\u001b[39m=\u001b[39mM\u001b[39m.\u001b[39mdtype)\n\u001b[1;32m     15\u001b[0m \u001b[39mfor\u001b[39;00m i \u001b[39min\u001b[39;00m \u001b[39mrange\u001b[39m(M\u001b[39m.\u001b[39mshape[\u001b[39m1\u001b[39m]):\n\u001b[0;32m---> 16\u001b[0m     out[:, i] \u001b[39m=\u001b[39m A \u001b[39m@\u001b[39;49m M[:, i]\n\u001b[1;32m     17\u001b[0m \u001b[39mreturn\u001b[39;00m out\n",
      "File \u001b[0;32m~/miniconda3x86_64/envs/alo/lib/python3.11/site-packages/linops/linops.py:42\u001b[0m, in \u001b[0;36mLinearOperator.__matmul__\u001b[0;34m(self, b)\u001b[0m\n\u001b[1;32m     40\u001b[0m     \u001b[39mreturn\u001b[39;00m _JoinOperator(\u001b[39mself\u001b[39m, b)\n\u001b[1;32m     41\u001b[0m \u001b[39melif\u001b[39;00m \u001b[39mlen\u001b[39m(b\u001b[39m.\u001b[39mshape) \u001b[39m==\u001b[39m \u001b[39m1\u001b[39m:\n\u001b[0;32m---> 42\u001b[0m     \u001b[39mreturn\u001b[39;00m \u001b[39mself\u001b[39;49m\u001b[39m.\u001b[39;49m_matmul_impl(b)\n\u001b[1;32m     43\u001b[0m \u001b[39melif\u001b[39;00m \u001b[39mlen\u001b[39m(b\u001b[39m.\u001b[39mshape) \u001b[39m==\u001b[39m \u001b[39m2\u001b[39m:\n\u001b[1;32m     44\u001b[0m     \u001b[39massert\u001b[39;00m \u001b[39mself\u001b[39m\u001b[39m.\u001b[39mshape[\u001b[39m1\u001b[39m] \u001b[39m==\u001b[39m b\u001b[39m.\u001b[39mshape[\u001b[39m0\u001b[39m]\n",
      "File \u001b[0;32m~/miniconda3x86_64/envs/alo/lib/python3.11/site-packages/linops/linops.py:312\u001b[0m, in \u001b[0;36mVectorJacobianOperator._matmul_impl\u001b[0;34m(self, v)\u001b[0m\n\u001b[1;32m    310\u001b[0m \u001b[39mdef\u001b[39;00m \u001b[39m_matmul_impl\u001b[39m(\u001b[39mself\u001b[39m, v):\n\u001b[1;32m    311\u001b[0m     \u001b[39mself\u001b[39m\u001b[39m.\u001b[39m_x\u001b[39m.\u001b[39mgrad \u001b[39m=\u001b[39m \u001b[39mNone\u001b[39;00m\n\u001b[0;32m--> 312\u001b[0m     \u001b[39mself\u001b[39;49m\u001b[39m.\u001b[39;49m_g\u001b[39m.\u001b[39;49mbackward(gradient\u001b[39m=\u001b[39;49mv, retain_graph\u001b[39m=\u001b[39;49m\u001b[39mTrue\u001b[39;49;00m)\n\u001b[1;32m    313\u001b[0m     out \u001b[39m=\u001b[39m \u001b[39mself\u001b[39m\u001b[39m.\u001b[39m_x\u001b[39m.\u001b[39mgrad\n\u001b[1;32m    314\u001b[0m     \u001b[39mself\u001b[39m\u001b[39m.\u001b[39m_x\u001b[39m.\u001b[39mgrad \u001b[39m=\u001b[39m \u001b[39mNone\u001b[39;00m\n",
      "File \u001b[0;32m~/miniconda3x86_64/envs/alo/lib/python3.11/site-packages/torch/_tensor.py:487\u001b[0m, in \u001b[0;36mTensor.backward\u001b[0;34m(self, gradient, retain_graph, create_graph, inputs)\u001b[0m\n\u001b[1;32m    477\u001b[0m \u001b[39mif\u001b[39;00m has_torch_function_unary(\u001b[39mself\u001b[39m):\n\u001b[1;32m    478\u001b[0m     \u001b[39mreturn\u001b[39;00m handle_torch_function(\n\u001b[1;32m    479\u001b[0m         Tensor\u001b[39m.\u001b[39mbackward,\n\u001b[1;32m    480\u001b[0m         (\u001b[39mself\u001b[39m,),\n\u001b[0;32m   (...)\u001b[0m\n\u001b[1;32m    485\u001b[0m         inputs\u001b[39m=\u001b[39minputs,\n\u001b[1;32m    486\u001b[0m     )\n\u001b[0;32m--> 487\u001b[0m torch\u001b[39m.\u001b[39;49mautograd\u001b[39m.\u001b[39;49mbackward(\n\u001b[1;32m    488\u001b[0m     \u001b[39mself\u001b[39;49m, gradient, retain_graph, create_graph, inputs\u001b[39m=\u001b[39;49minputs\n\u001b[1;32m    489\u001b[0m )\n",
      "File \u001b[0;32m~/miniconda3x86_64/envs/alo/lib/python3.11/site-packages/torch/autograd/__init__.py:200\u001b[0m, in \u001b[0;36mbackward\u001b[0;34m(tensors, grad_tensors, retain_graph, create_graph, grad_variables, inputs)\u001b[0m\n\u001b[1;32m    195\u001b[0m     retain_graph \u001b[39m=\u001b[39m create_graph\n\u001b[1;32m    197\u001b[0m \u001b[39m# The reason we repeat same the comment below is that\u001b[39;00m\n\u001b[1;32m    198\u001b[0m \u001b[39m# some Python versions print out the first line of a multi-line function\u001b[39;00m\n\u001b[1;32m    199\u001b[0m \u001b[39m# calls in the traceback and some print out the last line\u001b[39;00m\n\u001b[0;32m--> 200\u001b[0m Variable\u001b[39m.\u001b[39;49m_execution_engine\u001b[39m.\u001b[39;49mrun_backward(  \u001b[39m# Calls into the C++ engine to run the backward pass\u001b[39;49;00m\n\u001b[1;32m    201\u001b[0m     tensors, grad_tensors_, retain_graph, create_graph, inputs,\n\u001b[1;32m    202\u001b[0m     allow_unreachable\u001b[39m=\u001b[39;49m\u001b[39mTrue\u001b[39;49;00m, accumulate_grad\u001b[39m=\u001b[39;49m\u001b[39mTrue\u001b[39;49;00m)\n",
      "\u001b[0;31mRuntimeError\u001b[0m: element 0 of tensors does not require grad and does not have a grad_fn"
     ]
    }
   ],
   "source": [
    "torch.manual_seed(0)\n",
    "n0 = 100\n",
    "p0 = 80\n",
    "scale = 10\n",
    "\n",
    "def generate_data(n, p, k_sparse=None):\n",
    "\n",
    "    if k_sparse is None:\n",
    "        k_sparse = p\n",
    "\n",
    "    X = torch.randn(n, p)\n",
    "\n",
    "    beta = torch.zeros(p)\n",
    "    beta[:k_sparse] = torch.randn(k_sparse) / np.sqrt(k_sparse)\n",
    "\n",
    "    y = X @ beta + torch.randn(n)\n",
    "    return X, y, beta\n",
    "\n",
    "n = n0 * scale\n",
    "p = p0 * scale\n",
    "X, y, beta = generate_data(n, p)\n",
    "lamda = 0.1\n",
    "\n",
    "y.requires_grad = True\n",
    "H = X @ torch.linalg.solve(X.T @ X + n * lamda * torch.eye(p), X.T)\n",
    "y_hat = H @ y\n",
    "diagonal(y_hat, y, 'xdiag', {'m': 10})"
   ]
  },
  {
   "cell_type": "code",
   "execution_count": null,
   "metadata": {},
   "outputs": [],
   "source": []
  }
 ],
 "metadata": {
  "kernelspec": {
   "display_name": "alo",
   "language": "python",
   "name": "python3"
  },
  "language_info": {
   "codemirror_mode": {
    "name": "ipython",
    "version": 3
   },
   "file_extension": ".py",
   "mimetype": "text/x-python",
   "name": "python",
   "nbconvert_exporter": "python",
   "pygments_lexer": "ipython3",
   "version": "3.11.4"
  },
  "orig_nbformat": 4
 },
 "nbformat": 4,
 "nbformat_minor": 2
}
