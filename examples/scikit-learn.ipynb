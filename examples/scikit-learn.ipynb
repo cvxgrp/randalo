{
 "cells": [
  {
   "cell_type": "code",
   "execution_count": 1,
   "metadata": {},
   "outputs": [],
   "source": [
    "import time\n",
    "\n",
    "import numpy as np\n",
    "from torch import nn\n",
    "\n",
    "from sklearn.linear_model import Lasso\n",
    "from sklearn.model_selection import cross_validate\n",
    "\n",
    "from randalo import RandALO"
   ]
  },
  {
   "cell_type": "code",
   "execution_count": 2,
   "metadata": {},
   "outputs": [],
   "source": [
    "# generate a large problem\n",
    "n = 10000\n",
    "p = 5000\n",
    "s = 500\n",
    "sigma = 1.0\n",
    "\n",
    "rng = np.random.default_rng(0)\n",
    "X = rng.integers(0, 2, (n, p)) * 2 - 1\n",
    "beta = np.zeros(p)\n",
    "beta[:s] = rng.normal(0, 1 / np.sqrt(s), (s,))\n",
    "y = X @ beta + rng.normal(0, sigma, (n,))"
   ]
  },
  {
   "cell_type": "code",
   "execution_count": 3,
   "metadata": {},
   "outputs": [
    {
     "name": "stdout",
     "output_type": "stream",
     "text": [
      "5-fold CV : risk = 1.241288 in 2.344 seconds\n",
      "RandALO   : risk = 1.212009 in 0.825 seconds\n",
      "True      : risk = 1.219970\n"
     ]
    }
   ],
   "source": [
    "alpha = 0.5 / np.sqrt(s)\n",
    "\n",
    "# first, perform 5-fold CV with scikit-learn\n",
    "tic = time.monotonic()\n",
    "\n",
    "lasso = Lasso(alpha, fit_intercept=False)\n",
    "skl_results = cross_validate(lasso, X, y, cv=5, scoring=\"neg_mean_squared_error\")\n",
    "skl_risk = -np.mean(skl_results[\"test_score\"])\n",
    "\n",
    "toc = time.monotonic()\n",
    "skl_time = toc - tic\n",
    "\n",
    "# next, use RandALO\n",
    "tic = time.monotonic()\n",
    "\n",
    "lasso = Lasso(alpha, fit_intercept=False)\n",
    "lasso.fit(X, y)\n",
    "ra = RandALO.from_sklearn(lasso, X, y)\n",
    "ra_risk = ra.evaluate(nn.MSELoss())\n",
    "\n",
    "toc = time.monotonic()\n",
    "ra_time = toc - tic\n",
    "\n",
    "# compare with the true conditional risk\n",
    "true_risk = np.linalg.norm(lasso.coef_ - beta) ** 2 + sigma**2\n",
    "\n",
    "print(f\"5-fold CV : risk = {skl_risk:4f} in {skl_time:01.3f} seconds\")\n",
    "print(f\"RandALO   : risk = {ra_risk:4f} in {ra_time:01.3f} seconds\")\n",
    "print(f\"True      : risk = {true_risk:4f}\")"
   ]
  },
  {
   "cell_type": "code",
   "execution_count": null,
   "metadata": {},
   "outputs": [],
   "source": []
  }
 ],
 "metadata": {
  "kernelspec": {
   "display_name": "alo",
   "language": "python",
   "name": "python3"
  },
  "language_info": {
   "codemirror_mode": {
    "name": "ipython",
    "version": 3
   },
   "file_extension": ".py",
   "mimetype": "text/x-python",
   "name": "python",
   "nbconvert_exporter": "python",
   "pygments_lexer": "ipython3",
   "version": "3.12.5"
  }
 },
 "nbformat": 4,
 "nbformat_minor": 2
}
